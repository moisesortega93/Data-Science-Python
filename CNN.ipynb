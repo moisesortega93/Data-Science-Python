{
  "nbformat": 4,
  "nbformat_minor": 0,
  "metadata": {
    "colab": {
      "name": "Untitled0.ipynb",
      "provenance": [],
      "authorship_tag": "ABX9TyPnCytvXCzd+37L+5Q78m0n",
      "include_colab_link": true
    },
    "kernelspec": {
      "name": "python3",
      "display_name": "Python 3"
    }
  },
  "cells": [
    {
      "cell_type": "markdown",
      "metadata": {
        "id": "view-in-github",
        "colab_type": "text"
      },
      "source": [
        "<a href=\"https://colab.research.google.com/github/moisesortega93/Data-Science-Python/blob/main/CNN.ipynb\" target=\"_parent\"><img src=\"https://colab.research.google.com/assets/colab-badge.svg\" alt=\"Open In Colab\"/></a>"
      ]
    },
    {
      "cell_type": "markdown",
      "metadata": {
        "id": "WkIRrl5W0rkd"
      },
      "source": [
        " EXERCISE\r\n",
        "Create a new model with the following convolutional model with Dropout and train it on MNIST data. Once trained, test it and compare the results with the single-layer model. \r\n",
        "First Layer: Convolutional Layer (CONV1):\r\n",
        "Number of kernels: 32Size of the kernels: 3x3Kernel activation: relu\r\n",
        "Second Layer: Max Pooling Layer (POOL1):\r\n",
        "Pool size: 2x2\r\n",
        "Third Layer: Convolutional Layer (CONV2):\r\n",
        "Number of kernels: 64Size of the kernels: 3x3Kernel activation: relu\r\n",
        "Fourth Layer: Max Pooling Layer (POOL2):\r\n",
        "Pool size: 2x2\r\n",
        "Fifth Layer: Flatten layer(FLAT1)Sixth Layer: Dropout layer(DROP1):\r\n",
        "Droupout_rate: 0.5\r\n",
        "Seventh Layer: Dense layer(FC1):\r\n",
        "Number of output neurons: 10Activation function: softmax"
      ]
    },
    {
      "cell_type": "code",
      "metadata": {
        "id": "ZFbQnbblzxM3"
      },
      "source": [
        "import numpy as np\r\n",
        "from tensorflow import keras\r\n",
        "from tensorflow.keras.datasets import mnist\r\n",
        "from tensorflow.keras.utils import to_categorical\r\n",
        "from tensorflow.keras.models import Sequential\r\n",
        "from tensorflow.keras.layers import Dense, Conv2D, Flatten\r\n",
        "import matplotlib.pyplot as plt"
      ],
      "execution_count": null,
      "outputs": []
    },
    {
      "cell_type": "code",
      "metadata": {
        "id": "svtaUm6r0Cv3"
      },
      "source": [
        "# Download the MNIST dataset and do the train/test partition\r\n",
        "(x_train_orig, y_train_orig), (x_test_orig, y_test_orig) = mnist.load_data()"
      ],
      "execution_count": null,
      "outputs": []
    },
    {
      "cell_type": "code",
      "metadata": {
        "id": "Pbje7yEQ0FDl"
      },
      "source": [
        "# Visualize the first image of the training set\r\n",
        "first_image = x_train_orig[0]\r\n",
        "first_image = np.array(first_image, dtype='float')\r\n",
        "pixels = first_image.reshape((28, 28))\r\n",
        "plt.imshow(pixels, cmap='gray')"
      ],
      "execution_count": null,
      "outputs": []
    },
    {
      "cell_type": "code",
      "metadata": {
        "id": "mVqTYqVA0J9L"
      },
      "source": [
        "x_train_orig[0].shape"
      ],
      "execution_count": null,
      "outputs": []
    },
    {
      "cell_type": "code",
      "metadata": {
        "id": "-uhTyiki0NwG"
      },
      "source": [
        "print(\"Shape of the original train data: {}\".format(x_train_orig.shape))\r\n",
        "print(\"Shape of the original test data: {}\".format(x_test_orig.shape))"
      ],
      "execution_count": null,
      "outputs": []
    },
    {
      "cell_type": "code",
      "metadata": {
        "id": "JaSDCBEg0QLc"
      },
      "source": [
        "# Find the min and max values in the training set\r\n",
        "v_min = np.min(x_train_orig)\r\n",
        "v_max = np.max(x_train_orig)\r\n",
        "print(\"Min. and max. values before normalization are {} and {}.\".format(v_min, v_max))\r\n",
        "\r\n",
        "# Normalization\r\n",
        "x_train_orig = (x_train_orig - v_min) / (v_max - v_min)\r\n",
        "x_test_orig = (x_test_orig - v_min) / (v_max - v_min)\r\n",
        "\r\n",
        "print(\"Min. and max. values after normalization are {} and {}.\".format(np.min(x_train_orig), np.max(x_train_orig)))"
      ],
      "execution_count": null,
      "outputs": []
    },
    {
      "cell_type": "code",
      "metadata": {
        "id": "fGHwal-r0Suk"
      },
      "source": [
        "x_train = x_train_orig.reshape(60000,28,28,1)\r\n",
        "x_test = x_test_orig.reshape(10000,28,28,1)\r\n",
        "\r\n",
        "print(\"Shape of the train data: {}\".format(x_train.shape))\r\n",
        "print(\"Shape of the test data: {}\".format(x_test.shape))"
      ],
      "execution_count": null,
      "outputs": []
    },
    {
      "cell_type": "code",
      "metadata": {
        "id": "gxtKwATT0W71"
      },
      "source": [
        "num_classes = 10\r\n",
        "\r\n",
        "model = Sequential()\r\n",
        "\r\n",
        "# Add each layer to the model\r\n",
        "model.add(Conv2D(64, kernel_size=3, activation=\"relu\", input_shape=(28,28,1)))\r\n",
        "model.add(Flatten())\r\n",
        "model.add(Dense(num_classes, activation=\"softmax\"))"
      ],
      "execution_count": null,
      "outputs": []
    },
    {
      "cell_type": "code",
      "metadata": {
        "id": "EMDOJDv90Z1V"
      },
      "source": [
        "model.compile(optimizer='adam', loss='categorical_crossentropy', metrics=['accuracy'])"
      ],
      "execution_count": null,
      "outputs": []
    },
    {
      "cell_type": "code",
      "metadata": {
        "id": "q3VD2NOD0cTO"
      },
      "source": [
        "n_epochs = 10\r\n",
        "mfit = model.fit(x_train, y_train, validation_data=(x_test, y_test), batch_size=128, epochs=n_epochs)"
      ],
      "execution_count": null,
      "outputs": []
    },
    {
      "cell_type": "code",
      "metadata": {
        "id": "MnDjl44g0fzP"
      },
      "source": [
        "def plot_prediction(n_epochs, mfit):\r\n",
        "    N = n_epochs\r\n",
        "    plt.style.use(\"ggplot\")\r\n",
        "    fig, (ax1, ax2) = plt.subplots(1, 2, figsize=(15,6))\r\n",
        "    fig.suptitle('Training Loss and Accuracy')\r\n",
        "    \r\n",
        "    ax1.plot(np.arange(0, N), mfit.history[\"accuracy\"], label=\"train\")\r\n",
        "    ax1.plot(np.arange(0, N), mfit.history[\"val_accuracy\"], label=\"val\")\r\n",
        "    ax1.set_title(\"Accuracy\")\r\n",
        "    ax1.set_xlabel(\"Epoch #\")\r\n",
        "    ax1.set_ylabel(\"Accuracy\")\r\n",
        "    ax1.legend(loc=\"lower right\")\r\n",
        "    \r\n",
        "    ax2.plot(np.arange(0, N), mfit.history[\"loss\"], label=\"train\")\r\n",
        "    ax2.plot(np.arange(0, N), mfit.history[\"val_loss\"], label=\"val\")\r\n",
        "    ax2.set_title(\"Loss\")\r\n",
        "    ax2.set_xlabel(\"Epoch #\")\r\n",
        "    ax2.set_ylabel(\"Loss\")\r\n",
        "    ax2.legend(loc=\"upper right\")\r\n",
        "    \r\n",
        "    plt.show()"
      ],
      "execution_count": null,
      "outputs": []
    },
    {
      "cell_type": "code",
      "metadata": {
        "id": "Y2pLr3h-0hVl"
      },
      "source": [
        " plot_prediction(n_epochs, mfit)"
      ],
      "execution_count": null,
      "outputs": []
    },
    {
      "cell_type": "code",
      "metadata": {
        "id": "4DPp1Vxs0j2c"
      },
      "source": [
        "# Get predictions for the first four images of the test set\r\n",
        "predictions = model.predict(x_test[:4])\r\n",
        "\r\n",
        "\r\n",
        "for i in range(predictions.shape[0]):\r\n",
        "    # Visualize the image and predicted vs. real class label\r\n",
        "    image = x_test[i]\r\n",
        "    pixels = image.reshape((28, 28))\r\n",
        "    ax = plt.subplot(1,4,i+1)\r\n",
        "    ax.imshow(pixels, cmap='gray')\r\n",
        "    # Check the predicted class value for those images\r\n",
        "    ax.set_title('Predicted={}'.format(np.argmax(predictions[i,:])),{'fontsize':12})"
      ],
      "execution_count": null,
      "outputs": []
    }
  ]
}